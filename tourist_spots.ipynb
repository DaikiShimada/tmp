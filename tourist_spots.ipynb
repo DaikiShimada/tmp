{
 "cells": [
  {
   "cell_type": "code",
   "execution_count": 60,
   "metadata": {},
   "outputs": [],
   "source": [
    "%matplotlib inline\n",
    "import matplotlib\n",
    "import matplotlib.pyplot as plt\n",
    "import tqdm\n",
    "import numpy as np\n",
    "import pandas as pd\n",
    "from sklearn.feature_extraction.text import CountVectorizer\n",
    "from janome.tokenizer import Tokenizer"
   ]
  },
  {
   "cell_type": "code",
   "execution_count": 17,
   "metadata": {},
   "outputs": [],
   "source": [
    "import pathlib\n",
    "from collections import Counter"
   ]
  },
  {
   "cell_type": "code",
   "execution_count": 47,
   "metadata": {},
   "outputs": [
    {
     "data": {
      "text/plain": [
       "['/Library/Fonts/华文细黑.ttf',\n",
       " '/Library/Fonts/Arial Bold Italic.ttf',\n",
       " '/Library/Fonts/SourceSansPro-BlackIt.otf',\n",
       " '/Library/Fonts/MinionPro-BoldCnIt.otf',\n",
       " '/Library/Fonts/Microsoft/Candara Italic.ttf',\n",
       " '/Library/Fonts/STIXGeneralBolIta.otf',\n",
       " '/Library/Fonts/NuevaStd-Cond.otf',\n",
       " '/Library/Fonts/OCRAStd.otf',\n",
       " '/Library/Fonts/ChaparralPro-LightIt.otf',\n",
       " '/Library/Fonts/Trebuchet MS Bold.ttf',\n",
       " '/System/Library/Fonts/SFNSText-BoldItalicG2.otf',\n",
       " '/System/Library/Fonts/SFNSDisplay-Heavy.otf',\n",
       " '/Library/Fonts/STIXVarBol.otf',\n",
       " '/Library/Fonts/BlackoakStd.otf',\n",
       " '/Library/Fonts/KozMinPro-Medium.otf',\n",
       " '/Library/Fonts/KozMinPro-Heavy.otf',\n",
       " '/Library/Fonts/OsakaMono.ttf',\n",
       " '/Library/Fonts/Microsoft/Times New Roman Italic.ttf',\n",
       " '/Library/Fonts/WawaTC-Regular.otf',\n",
       " '/Library/Fonts/Microsoft/Palatino Linotype Bold Italic.ttf',\n",
       " '/Library/Fonts/Microsoft/Times New Roman Bold.ttf',\n",
       " '/usr/X11/lib/X11/fonts/OTF/SyrCOMAntioch.otf',\n",
       " '/Library/Fonts/TrajanPro3-Bold.otf',\n",
       " '/Library/Fonts/Microsoft/HGRSMP.TTF',\n",
       " '/Library/Fonts/TektonPro-BoldCond.otf',\n",
       " '/Library/Fonts/AdobeHebrew-Italic.otf',\n",
       " '/Library/Fonts/AdobeArabic-Regular.otf',\n",
       " '/System/Library/Fonts/SFNSText-Semibold.otf',\n",
       " '/Library/Fonts/PoplarStd.otf',\n",
       " '/Library/Fonts/AdobeDevanagari-Bold.otf',\n",
       " '/System/Library/Fonts/SFNSText-BoldItalic.otf',\n",
       " '/Library/Fonts/DIN Alternate Bold.ttf',\n",
       " '/Library/Fonts/Zapfino.ttf',\n",
       " '/Library/Fonts/DIN Condensed Bold.ttf',\n",
       " '/Library/Fonts/TektonPro-Bold.otf',\n",
       " '/Library/Fonts/SignPainter.otf',\n",
       " '/Library/Fonts/STIXSizThreeSymReg.otf',\n",
       " '/Library/Fonts/Ayuthaya.ttf',\n",
       " '/Library/Fonts/Apple Chancery.ttf',\n",
       " '/usr/X11/lib/X11/fonts/TTF/luximri.ttf',\n",
       " '/Library/Fonts/BrushScriptStd.otf',\n",
       " '/usr/X11/lib/X11/fonts/OTF/SyrCOMQenNeshrin.otf',\n",
       " '/Library/Fonts/Impact.ttf',\n",
       " '/Library/Fonts/Microsoft/Tw Cen MT Bold Italic.ttf',\n",
       " '/Library/Fonts/STIXIntUpBol.otf',\n",
       " '/usr/X11/lib/X11/fonts/TTF/VeraBI.ttf',\n",
       " '/Library/Fonts/Microsoft/MS Reference Sans Serif.ttf',\n",
       " '/Library/Fonts/GiddyupStd.otf',\n",
       " '/usr/X11/lib/X11/fonts/OTF/SyrCOMJerusalem.otf',\n",
       " '/Library/Fonts/MyriadPro-Semibold.otf',\n",
       " '/Library/Fonts/AdobeArabic-Italic.otf',\n",
       " '/usr/X11/lib/X11/fonts/TTF/luxisb.ttf',\n",
       " '/usr/X11/lib/X11/fonts/OTF/SyrCOMTurAbdin.otf',\n",
       " '/Library/Fonts/STIXIntDBol.otf',\n",
       " '/System/Library/Fonts/SFNSText-BoldG1.otf',\n",
       " '/System/Library/Fonts/SFNSText-BoldItalicG1.otf',\n",
       " '/Library/Fonts/Microsoft/Tw Cen MT.ttf',\n",
       " '/Library/Fonts/Webdings.ttf',\n",
       " '/Library/Fonts/MyriadArabic-Bold.otf',\n",
       " '/Library/Fonts/STIXSizFiveSymReg.otf',\n",
       " '/usr/X11/lib/X11/fonts/OTF/SyrCOMMardinBold.otf',\n",
       " '/Library/Fonts/Microsoft/Candara Bold.ttf',\n",
       " '/Library/Fonts/Wingdings 2.ttf',\n",
       " '/Library/Fonts/KozMinPr6N-ExtraLight.otf',\n",
       " '/Library/Fonts/Microsoft/Lucida Console.ttf',\n",
       " '/Library/Fonts/SourceSansPro-It.otf',\n",
       " '/Library/Fonts/AdobeDevanagari-Italic.otf',\n",
       " '/Library/Fonts/OratorStd-Slanted.otf',\n",
       " '/Library/Fonts/TrajanPro3-Regular.otf',\n",
       " '/Library/Fonts/CharlemagneStd-Bold.otf',\n",
       " '/Library/Fonts/AdobeArabic-Bold.otf',\n",
       " '/Library/Fonts/SourceSansPro-Bold.otf',\n",
       " '/Library/Fonts/Lao Sangam MN.ttf',\n",
       " '/Library/Fonts/Microsoft/MingLiU-ExtB.ttf',\n",
       " '/Library/Fonts/Verdana Italic.ttf',\n",
       " '/Library/Fonts/MyriadArabic-Regular.otf',\n",
       " '/Library/Fonts/Microsoft/Verdana Bold.ttf',\n",
       " '/Library/Fonts/NuevaStd-Bold.otf',\n",
       " '/System/Library/Fonts/SFNSText-BoldG2.otf',\n",
       " '/Library/Fonts/Microsoft/Corbel Bold.ttf',\n",
       " '/Library/Fonts/Microsoft/MS PGothic.ttf',\n",
       " '/System/Library/Fonts/SFNSText-RegularItalicG3.otf',\n",
       " '/System/Library/Fonts/SFNSDisplay-Black.otf',\n",
       " '/Library/Fonts/Times New Roman Bold.ttf',\n",
       " '/Library/Fonts/Microsoft/Wingdings 3.ttf',\n",
       " '/Library/Fonts/SourceSansPro-Semibold.otf',\n",
       " '/Library/Fonts/Courier New Bold.ttf',\n",
       " '/usr/X11/lib/X11/fonts/OTF/SyrCOMMardin.otf',\n",
       " '/Library/Fonts/Microsoft/Brush Script.ttf',\n",
       " '/Library/Fonts/STIXNonUni.otf',\n",
       " '/Library/Fonts/AdobeFanHeitiStd-Bold.otf',\n",
       " '/Library/Fonts/Pilgiche.ttf',\n",
       " '/Library/Fonts/MyriadArabic-It.otf',\n",
       " '/Library/Fonts/HeadlineA.ttf',\n",
       " '/Library/Fonts/儷黑 Pro.ttf',\n",
       " '/Library/Fonts/AdobeNaskh-Medium.otf',\n",
       " '/Library/Fonts/STIXIntDReg.otf',\n",
       " '/Library/Fonts/HoboStd.otf',\n",
       " '/Library/Fonts/Georgia Bold.ttf',\n",
       " '/Library/Fonts/TektonPro-BoldObl.otf',\n",
       " '/usr/X11/lib/X11/fonts/TTF/luxisbi.ttf',\n",
       " '/Library/Fonts/Osaka.ttf',\n",
       " '/Library/Fonts/Brush Script.ttf',\n",
       " '/Library/Fonts/NISC18030.ttf',\n",
       " '/usr/X11/lib/X11/fonts/OTF/SyrCOMJerusalemOutline.otf',\n",
       " '/Library/Fonts/YuppyTC-Regular.otf',\n",
       " '/Library/Fonts/Microsoft/Constantia Bold.ttf',\n",
       " '/Library/Fonts/AdobeFangsongStd-Regular.otf',\n",
       " '/Library/Fonts/Yu Gothic Bold.otf',\n",
       " '/Library/Fonts/STIXNonUniIta.otf',\n",
       " '/Library/Fonts/TrajanPro-Bold.otf',\n",
       " '/Library/Fonts/AdobeGurmukhi-Bold.otf',\n",
       " '/Library/Fonts/STIXGeneral.otf',\n",
       " '/Library/Fonts/Trattatello.ttf',\n",
       " '/Library/Fonts/Microsoft/PMingLiU-ExtB.ttf',\n",
       " '/Library/Fonts/KozGoPr6N-Medium.otf',\n",
       " '/Library/Fonts/StencilStd.otf',\n",
       " '/Library/Fonts/Bradley Hand Bold.ttf',\n",
       " '/Library/Fonts/ACaslonPro-BoldItalic.otf',\n",
       " '/usr/X11/lib/X11/fonts/TTF/VeraMoBI.ttf',\n",
       " '/Library/Fonts/SourceSansPro-SemiboldIt.otf',\n",
       " '/usr/X11/lib/X11/fonts/OTF/SyrCOMNisibinOutline.otf',\n",
       " '/Library/Fonts/LithosPro-Black.otf',\n",
       " '/System/Library/Fonts/SFNSText-BoldItalicG3.otf',\n",
       " '/Library/Fonts/KozGoPro-Medium.otf',\n",
       " '/Library/Fonts/Arial Black.ttf',\n",
       " '/Library/Fonts/Microsoft/Consolas Bold.ttf',\n",
       " '/Library/Fonts/MinionPro-Regular.otf',\n",
       " '/Library/Fonts/WeibeiSC-Bold.otf',\n",
       " '/Library/Fonts/Georgia Italic.ttf',\n",
       " '/System/Library/Fonts/SFNSText-RegularG2.otf',\n",
       " '/System/Library/Fonts/SFNSText-MediumItalic.otf',\n",
       " '/Library/Fonts/Verdana Bold Italic.ttf',\n",
       " '/usr/X11/lib/X11/fonts/OTF/SyrCOMMalankara.otf',\n",
       " '/Library/Fonts/Microsoft/Constantia Italic.ttf',\n",
       " '/Library/Fonts/KozGoPro-Heavy.otf',\n",
       " '/usr/X11/lib/X11/fonts/OTF/SyrCOMCtesiphon.otf',\n",
       " '/System/Library/Fonts/ZapfDingbats.ttf',\n",
       " '/Library/Fonts/Courier New Italic.ttf',\n",
       " '/Library/Fonts/MyriadPro-Bold.otf',\n",
       " '/Library/Fonts/MyriadHebrew-Regular.otf',\n",
       " '/Library/Fonts/儷宋 Pro.ttf',\n",
       " '/Library/Fonts/Microsoft/MS Mincho.ttf',\n",
       " '/Library/Fonts/TeamViewer11.otf',\n",
       " '/Library/Fonts/AGaramondPro-Italic.otf',\n",
       " '/Library/Fonts/STIXIntSmReg.otf',\n",
       " '/Library/Fonts/MyriadPro-BoldCondIt.otf',\n",
       " '/Library/Fonts/Andale Mono.ttf',\n",
       " '/Library/Fonts/LetterGothicStd-Slanted.otf',\n",
       " '/Library/Fonts/Microsoft/Corbel Italic.ttf',\n",
       " '/Library/Fonts/WawaSC-Regular.otf',\n",
       " '/Library/Fonts/Bodoni Ornaments.ttf',\n",
       " '/System/Library/Fonts/SFNSDisplay-Light.otf',\n",
       " '/Library/Fonts/Hoefler Text Ornaments.ttf',\n",
       " '/Library/Fonts/Times New Roman Bold Italic.ttf',\n",
       " '/Library/Fonts/Microsoft/Wingdings 2.ttf',\n",
       " '/Library/Fonts/Microsoft/Palatino Linotype.ttf',\n",
       " '/usr/X11/lib/X11/fonts/TTF/luxisr.ttf',\n",
       " '/System/Library/Fonts/Apple Color Emoji.ttf',\n",
       " '/Library/Fonts/Silom.ttf',\n",
       " '/Library/Fonts/ChaparralPro-Regular.otf',\n",
       " '/Library/Fonts/Microsoft/Consolas Italic.ttf',\n",
       " '/Library/Fonts/Microsoft/Candara Bold Italic.ttf',\n",
       " '/Library/Fonts/Microsoft/Meiryo.ttf',\n",
       " '/Library/Fonts/Mishafi.ttf',\n",
       " '/usr/X11/lib/X11/fonts/TTF/luximbi.ttf',\n",
       " '/Library/Fonts/KozMinPro-Light.otf',\n",
       " '/usr/X11/lib/X11/fonts/OTF/SyrCOMKharput.otf',\n",
       " '/Library/Fonts/Microsoft/msyi.ttf',\n",
       " '/Library/Fonts/SourceSansPro-BoldIt.otf',\n",
       " '/Library/Fonts/AdobeMyungjoStd-Medium.otf',\n",
       " '/Library/Fonts/KozMinPr6N-Bold.otf',\n",
       " '/Library/Fonts/STIXSizOneSymBol.otf',\n",
       " '/Library/Fonts/Mishafi Gold.ttf',\n",
       " '/Library/Fonts/Wingdings.ttf',\n",
       " '/Library/Fonts/MyriadArabic-BoldIt.otf',\n",
       " '/usr/X11/lib/X11/fonts/TTF/VeraIt.ttf',\n",
       " '/Library/Fonts/TrajanPro-Regular.otf',\n",
       " '/Library/Fonts/Tahoma.ttf',\n",
       " '/usr/X11/lib/X11/fonts/OTF/SyrCOMJerusalemItalic.otf',\n",
       " '/usr/X11/lib/X11/fonts/TTF/VeraSeBd.ttf',\n",
       " '/Library/Fonts/BigCaslon.ttf',\n",
       " '/Library/Fonts/华文仿宋.ttf',\n",
       " '/Library/Fonts/Tahoma Bold.ttf',\n",
       " '/Library/Fonts/BirchStd.otf',\n",
       " '/Library/Fonts/Microsoft/Verdana Italic.ttf',\n",
       " '/System/Library/Fonts/SFNSDisplay-Thin.otf',\n",
       " '/Library/Fonts/STIXIntUpDReg.otf',\n",
       " '/Library/Fonts/Krungthep.ttf',\n",
       " '/Library/Fonts/MyriadPro-It.otf',\n",
       " '/Library/Fonts/STIXSizFourSymReg.otf',\n",
       " '/System/Library/Fonts/Apple Braille.ttf',\n",
       " '/Library/Fonts/Wingdings 3.ttf',\n",
       " '/Library/Fonts/Microsoft/Perpetua Italic.ttf',\n",
       " '/Library/Fonts/STIXSizTwoSymBol.otf',\n",
       " '/Library/Fonts/AdobeGothicStd-Bold.otf',\n",
       " '/Library/Fonts/STIXNonUniBolIta.otf',\n",
       " '/Library/Fonts/Microsoft/Consolas.ttf',\n",
       " '/Library/Fonts/Microsoft/Gulim.ttf',\n",
       " '/Library/Fonts/Microsoft/Constantia.ttf',\n",
       " '/Library/Fonts/KozMinPro-Regular.otf',\n",
       " '/Library/Fonts/AdobeHeitiStd-Regular.otf',\n",
       " '/Library/Fonts/Microsoft/taile.ttf',\n",
       " '/Library/Fonts/KozGoPro-Bold.otf',\n",
       " '/System/Library/Fonts/SFNSText-Light.otf',\n",
       " '/Library/Fonts/STIXSizThreeSymBol.otf',\n",
       " '/Library/Fonts/AdobeDevanagari-Regular.otf',\n",
       " '/Library/Fonts/ChaparralPro-Italic.otf',\n",
       " '/Library/Fonts/Skia.ttf',\n",
       " '/Library/Fonts/MyriadPro-Regular.otf',\n",
       " '/Library/Fonts/STIXGeneralBol.otf',\n",
       " '/Library/Fonts/MyriadHebrew-Bold.otf',\n",
       " '/Library/Fonts/Microsoft/Tw Cen MT Italic.ttf',\n",
       " '/Library/Fonts/Microsoft/Gill Sans MT Bold Italic.ttf',\n",
       " '/Library/Fonts/Microsoft/Wingdings.ttf',\n",
       " '/Library/Fonts/LetterGothicStd-Bold.otf',\n",
       " '/Library/Fonts/Microsoft/Candara.ttf',\n",
       " '/Library/Fonts/Times New Roman Italic.ttf',\n",
       " '/Library/Fonts/Kokonor.ttf',\n",
       " '/Library/Fonts/LetterGothicStd-BoldSlanted.otf',\n",
       " '/Library/Fonts/Arial Bold.ttf',\n",
       " '/Library/Fonts/KozMinPr6N-Light.otf',\n",
       " '/Library/Fonts/Verdana Bold.ttf',\n",
       " '/System/Library/Fonts/SFNSText-RegularG3.otf',\n",
       " '/Library/Fonts/Microsoft/Corbel.ttf',\n",
       " '/Library/Fonts/Arial.ttf',\n",
       " '/Library/Fonts/SourceSansPro-ExtraLight.otf',\n",
       " '/Library/Fonts/Gungseouche.ttf',\n",
       " '/Library/Fonts/Microsoft/Corbel Bold Italic.ttf',\n",
       " '/usr/X11/lib/X11/fonts/OTF/SyrCOMMidyat.otf',\n",
       " '/Library/Fonts/AdobeHebrew-Regular.otf',\n",
       " '/Library/Fonts/SourceSansPro-Light.otf',\n",
       " '/Library/Fonts/Microsoft/TaiLeb.ttf',\n",
       " '/Library/Fonts/Microsoft/Cambria.ttf',\n",
       " '/usr/X11/lib/X11/fonts/OTF/SyrCOMUrhoy.otf',\n",
       " '/Library/Fonts/AdobeMingStd-Light.otf',\n",
       " '/Library/Fonts/NuevaStd-Italic.otf',\n",
       " '/Library/Fonts/Microsoft/Cambria Bold Italic.ttf',\n",
       " '/Library/Fonts/KozMinPro-Bold.otf',\n",
       " '/Library/Fonts/Times New Roman.ttf',\n",
       " '/Library/Fonts/Microsoft/Cambria Math.ttf',\n",
       " '/Library/Fonts/Microsoft/Gill Sans MT.ttf',\n",
       " '/Library/Fonts/OratorStd.otf',\n",
       " '/Library/Fonts/MyriadPro-Cond.otf',\n",
       " '/Library/Fonts/Microsoft/Perpetua Bold Italic.ttf',\n",
       " '/Library/Fonts/WeibeiTC-Bold.otf',\n",
       " '/Library/Fonts/MinionPro-MediumIt.otf',\n",
       " '/Library/Fonts/KozMinPro-ExtraLight.otf',\n",
       " '/Library/Fonts/MyriadHebrew-It.otf',\n",
       " '/System/Library/Fonts/SFNSText-RegularItalicG1.otf',\n",
       " '/Library/Fonts/Microsoft/Calibri Italic.ttf',\n",
       " '/Library/Fonts/Microsoft/Constantia Bold Italic.ttf',\n",
       " '/Library/Fonts/Microsoft/Times New Roman.ttf',\n",
       " '/usr/X11/lib/X11/fonts/TTF/luxirri.ttf',\n",
       " '/Library/Fonts/Gurmukhi.ttf',\n",
       " '/Library/Fonts/InaiMathi.ttf',\n",
       " '/Library/Fonts/MinionPro-SemiboldIt.otf',\n",
       " '/Library/Fonts/Microsoft Sans Serif.ttf',\n",
       " '/Library/Fonts/Verdana.ttf',\n",
       " '/Library/Fonts/PrestigeEliteStd-Bd.otf',\n",
       " '/Library/Fonts/Microsoft/PMingLiU.ttf',\n",
       " '/Library/Fonts/Microsoft/Batang.ttf',\n",
       " '/Library/Fonts/Microsoft/Perpetua.ttf',\n",
       " '/Library/Fonts/MinionPro-It.otf',\n",
       " '/Library/Fonts/Courier New Bold Italic.ttf',\n",
       " '/System/Library/Fonts/SFNSDisplay-Regular.otf',\n",
       " '/Library/Fonts/AdobeHebrew-BoldItalic.otf',\n",
       " '/Library/Fonts/MesquiteStd.otf',\n",
       " '/usr/X11/lib/X11/fonts/TTF/VeraMoIt.ttf',\n",
       " '/Library/Fonts/STIXSizFourSymBol.otf',\n",
       " '/usr/X11/lib/X11/fonts/OTF/SyrCOMUrhoyBold.otf',\n",
       " '/Library/Fonts/Microsoft/Consolas Bold Italic.ttf',\n",
       " '/Library/Fonts/Microsoft/MS PMincho.ttf',\n",
       " '/System/Library/Fonts/SFNSText-Regular.otf',\n",
       " '/Library/Fonts/Microsoft/Calibri Bold.ttf',\n",
       " '/Library/Fonts/Chalkduster.ttf',\n",
       " '/Library/Fonts/LetterGothicStd.otf',\n",
       " '/Library/Fonts/ACaslonPro-Bold.otf',\n",
       " '/Library/Fonts/NuevaStd-BoldCondItalic.otf',\n",
       " '/Library/Fonts/MyriadPro-BoldIt.otf',\n",
       " '/Library/Fonts/Microsoft/Franklin Gothic Book.ttf',\n",
       " '/Library/Fonts/Herculanum.ttf',\n",
       " '/Library/Fonts/Comic Sans MS.ttf',\n",
       " '/Library/Fonts/STIXSizOneSymReg.otf',\n",
       " '/Library/Fonts/AdobeSongStd-Light.otf',\n",
       " '/Library/Fonts/NuevaStd-CondItalic.otf',\n",
       " '/Library/Fonts/MyriadPro-SemiboldIt.otf',\n",
       " '/Library/Fonts/Microsoft/Palatino Linotype Bold.ttf',\n",
       " '/Library/Fonts/Microsoft/Franklin Gothic Book Italic.ttf',\n",
       " '/Library/Fonts/Microsoft/MS Gothic.ttf',\n",
       " '/Library/Fonts/AGaramondPro-Bold.otf',\n",
       " '/Library/Fonts/PlantagenetCherokee.ttf',\n",
       " '/Library/Fonts/MyriadHebrew-BoldIt.otf',\n",
       " '/Library/Fonts/Bodoni 72 Smallcaps Book.ttf',\n",
       " '/Library/Fonts/Trebuchet MS Bold Italic.ttf',\n",
       " '/Library/Fonts/SourceSansPro-LightIt.otf',\n",
       " '/Library/Fonts/AdobeGurmukhi-Regular.otf',\n",
       " '/Library/Fonts/STIXIntUpDBol.otf',\n",
       " '/usr/X11/lib/X11/fonts/TTF/Vera.ttf',\n",
       " '/Library/Fonts/MinionPro-Semibold.otf',\n",
       " '/Library/Fonts/RosewoodStd-Regular.otf',\n",
       " '/System/Library/Fonts/SFNSText-BoldG3.otf',\n",
       " '/Library/Fonts/Microsoft/Gill Sans MT Italic.ttf',\n",
       " '/Library/Fonts/Khmer Sangam MN.ttf',\n",
       " '/usr/X11/lib/X11/fonts/OTF/SyrCOMAdiabene.otf',\n",
       " '/usr/X11/lib/X11/fonts/OTF/SyrCOMJerusalemBold.otf',\n",
       " '/Library/Fonts/Microsoft/Bookshelf Symbol 7.ttf',\n",
       " '/Library/Fonts/KozMinPr6N-Regular.otf',\n",
       " '/System/Library/Fonts/SFNSText-RegularG1.otf',\n",
       " '/usr/X11/lib/X11/fonts/TTF/VeraSe.ttf',\n",
       " '/usr/X11/lib/X11/fonts/TTF/luximr.ttf',\n",
       " '/Library/Fonts/Comic Sans MS Bold.ttf',\n",
       " '/System/Library/Fonts/SFNSText-RegularItalicG2.otf',\n",
       " '/Users/sheema/Library/Fonts/design_towergothic_ub_stencil.ttf',\n",
       " '/usr/X11/lib/X11/fonts/OTF/SyrCOMBatnan.otf',\n",
       " '/Library/Fonts/AdobeDevanagari-BoldItalic.otf',\n",
       " '/Library/Fonts/Yu Gothic Medium.otf',\n",
       " '/System/Library/Fonts/SFNSText-Bold.otf',\n",
       " '/Library/Fonts/Arial Narrow Italic.ttf',\n",
       " '/System/Library/Fonts/SFNSDisplay-Bold.otf',\n",
       " '/Library/Fonts/AppleMyungjo.ttf',\n",
       " '/usr/X11/lib/X11/fonts/TTF/luxisri.ttf',\n",
       " '/Library/Fonts/KozMinPr6N-Medium.otf',\n",
       " '/Library/Fonts/Sathu.ttf',\n",
       " '/Library/Fonts/Microsoft/Meiryo Bold.ttf',\n",
       " '/Library/Fonts/Microsoft/SimSun-ExtB.ttf',\n",
       " '/Library/Fonts/KozGoPr6N-Light.otf',\n",
       " '/Library/Fonts/STIXIntUpSmBol.otf',\n",
       " '/Library/Fonts/Georgia.ttf',\n",
       " '/Library/Fonts/MyriadPro-BoldCond.otf',\n",
       " '/Library/Fonts/Microsoft/Calibril.ttf',\n",
       " '/System/Library/Fonts/SFNSText-HeavyItalic.otf',\n",
       " '/System/Library/Fonts/SFNSText-SemiboldItalic.otf',\n",
       " '/Library/Fonts/ChaparralPro-BoldIt.otf',\n",
       " '/System/Library/Fonts/Apple Braille Pinpoint 6 Dot.ttf',\n",
       " '/Library/Fonts/STIXVar.otf',\n",
       " '/Library/Fonts/MinionPro-BoldCn.otf',\n",
       " '/Library/Fonts/Microsoft/Calibri.ttf',\n",
       " '/Library/Fonts/AGaramondPro-BoldItalic.otf',\n",
       " '/Library/Fonts/Microsoft/SimSun.ttf',\n",
       " '/Library/Fonts/YuppySC-Regular.otf',\n",
       " '/Library/Fonts/KozGoPro-Light.otf',\n",
       " '/Library/Fonts/Microsoft/mingliu_hkscs.ttf',\n",
       " '/Library/Fonts/MyriadPro-CondIt.otf',\n",
       " '/Library/Fonts/Microsoft/Cambria Italic.ttf',\n",
       " '/Library/Fonts/ACaslonPro-Regular.otf',\n",
       " '/Library/Fonts/Microsoft/Marlett.ttf',\n",
       " '/Library/Fonts/STIXIntUpSmReg.otf',\n",
       " '/Library/Fonts/Microsoft/Times New Roman Bold Italic.ttf',\n",
       " '/Library/Fonts/ACaslonPro-Semibold.otf',\n",
       " '/Library/Fonts/Microsoft/MS Reference Specialty.ttf',\n",
       " '/System/Library/Fonts/Apple Braille Outline 8 Dot.ttf',\n",
       " '/Library/Fonts/Microsoft/SimHei.ttf',\n",
       " '/Library/Fonts/Microsoft/Meiryo Bold Italic.ttf',\n",
       " '/Library/Fonts/Microsoft/Meiryo Italic.ttf',\n",
       " '/Library/Fonts/MinionPro-Medium.otf',\n",
       " '/Library/Fonts/SourceSansPro-ExtraLightIt.otf',\n",
       " '/Library/Fonts/Georgia Bold Italic.ttf',\n",
       " '/Library/Fonts/Microsoft/himalaya.ttf',\n",
       " '/Library/Fonts/Diwan Thuluth.ttf',\n",
       " '/Library/Fonts/AGaramondPro-Regular.otf',\n",
       " '/Library/Fonts/Microsoft/Gabriola.ttf',\n",
       " '/System/Library/Fonts/SFNSText-RegularItalic.otf',\n",
       " '/System/Library/Fonts/SFNSDisplay-Semibold.otf',\n",
       " '/Library/Fonts/MinionPro-BoldIt.otf',\n",
       " '/usr/X11/lib/X11/fonts/TTF/VeraBd.ttf',\n",
       " '/Library/Fonts/STIXSizTwoSymReg.otf',\n",
       " '/System/Library/Fonts/Keyboard.ttf',\n",
       " '/Library/Fonts/Microsoft/MingLiU_HKSCS-ExtB.ttf',\n",
       " '/Library/Fonts/SourceSansPro-Regular.otf',\n",
       " '/Library/Fonts/AppleGothic.ttf',\n",
       " '/Library/Fonts/KozGoPr6N-Bold.otf',\n",
       " '/Library/Fonts/Microsoft/Perpetua Bold.ttf',\n",
       " '/Library/Fonts/MinionPro-Bold.otf',\n",
       " '/usr/X11/lib/X11/fonts/OTF/GohaTibebZemen.otf',\n",
       " '/usr/X11/lib/X11/fonts/TTF/luximb.ttf',\n",
       " '/usr/X11/lib/X11/fonts/OTF/SyrCOMTalada.otf',\n",
       " '/Library/Fonts/ACaslonPro-Italic.otf',\n",
       " '/usr/X11/lib/X11/fonts/TTF/VeraMono.ttf',\n",
       " '/Library/Fonts/Microsoft/Verdana Bold Italic.ttf',\n",
       " '/Library/Fonts/KozGoPr6N-ExtraLight.otf',\n",
       " '/Library/Fonts/Microsoft/Cambria Bold.ttf',\n",
       " '/Library/Fonts/KozGoPro-Regular.otf',\n",
       " '/Library/Fonts/NuevaStd-BoldCond.otf',\n",
       " '/Library/Fonts/Trebuchet MS.ttf',\n",
       " '/System/Library/Fonts/Apple Braille Outline 6 Dot.ttf',\n",
       " '/System/Library/Fonts/SFNSText-Medium.otf',\n",
       " '/Library/Fonts/ChaparralPro-Bold.otf',\n",
       " '/Library/Fonts/Microsoft/Arial.ttf',\n",
       " '/Library/Fonts/Arial Unicode.ttf',\n",
       " '/Library/Fonts/KozGoPr6N-Regular.otf',\n",
       " '/System/Library/Fonts/SFNSText-Heavy.otf',\n",
       " '/Library/Fonts/STIXNonUniBol.otf',\n",
       " '/Library/Fonts/Microsoft/Franklin Gothic Medium.ttf',\n",
       " '/Library/Fonts/Microsoft/Tw Cen MT Bold.ttf',\n",
       " '/Library/Fonts/Trebuchet MS Italic.ttf',\n",
       " '/Library/Fonts/STIXGeneralItalic.otf',\n",
       " '/Library/Fonts/KozMinPr6N-Heavy.otf',\n",
       " '/Library/Fonts/CooperBlackStd.otf',\n",
       " '/Library/Fonts/Microsoft/Arial Bold.ttf',\n",
       " '/Library/Fonts/Microsoft/MingLiU.ttf',\n",
       " '/Library/Fonts/SourceSansPro-Black.otf',\n",
       " '/System/Library/Fonts/LastResort.ttf',\n",
       " '/System/Library/Fonts/Symbol.ttf',\n",
       " '/Library/Fonts/KozGoPro-ExtraLight.otf',\n",
       " '/Library/Fonts/Arial Narrow Bold Italic.ttf',\n",
       " '/Library/Fonts/Microsoft/monbaiti.ttf',\n",
       " '/Library/Fonts/Microsoft/Palatino Linotype Italic.ttf',\n",
       " '/Library/Fonts/Luminari.ttf',\n",
       " '/Library/Fonts/LithosPro-Regular.otf',\n",
       " '/usr/X11/lib/X11/fonts/OTF/SyrCOMEdessa.otf',\n",
       " '/Library/Fonts/Microsoft/Verdana.ttf',\n",
       " '/Library/Fonts/CooperBlackStd-Italic.otf',\n",
       " '/Library/Fonts/TektonPro-BoldExt.otf',\n",
       " '/System/Library/Fonts/SFNSDisplay-Medium.otf',\n",
       " '/usr/X11/lib/X11/fonts/TTF/luxirr.ttf',\n",
       " '/System/Library/Fonts/SFNSText-LightItalic.otf',\n",
       " '/Library/Fonts/STIXIntSmBol.otf',\n",
       " '/Library/Fonts/PCmyoungjo.ttf',\n",
       " '/Library/Fonts/AdobeHebrew-Bold.otf',\n",
       " '/Library/Fonts/Arial Narrow.ttf',\n",
       " '/Library/Fonts/Farisi.ttf',\n",
       " '/Library/Fonts/ACaslonPro-SemiboldItalic.otf',\n",
       " '/usr/X11/lib/X11/fonts/OTF/SyrCOMNisibin.otf',\n",
       " '/Library/Fonts/华文黑体.ttf',\n",
       " '/usr/X11/lib/X11/fonts/TTF/GohaTibebZemen.ttf',\n",
       " '/Library/Fonts/AdobeArabic-BoldItalic.otf',\n",
       " '/usr/X11/lib/X11/fonts/TTF/luxirbi.ttf',\n",
       " '/Library/Fonts/Courier New.ttf',\n",
       " '/System/Library/Fonts/SFNSDisplay-Ultralight.otf',\n",
       " '/Library/Fonts/Arial Italic.ttf',\n",
       " '/Library/Fonts/Microsoft/Franklin Gothic Medium Italic.ttf',\n",
       " '/Library/Fonts/STIXIntUpReg.otf',\n",
       " '/Library/Fonts/Arial Narrow Bold.ttf',\n",
       " '/Library/Fonts/Arial Rounded Bold.ttf',\n",
       " '/Library/Fonts/Microsoft/Arial Bold Italic.ttf',\n",
       " '/Library/Fonts/AdobeKaitiStd-Regular.otf',\n",
       " '/Library/Fonts/KozGoPr6N-Heavy.otf',\n",
       " '/usr/X11/lib/X11/fonts/OTF/SyrCOMBatnanBold.otf',\n",
       " '/usr/X11/lib/X11/fonts/TTF/VeraMoBd.ttf',\n",
       " '/Library/Fonts/Microsoft/Lucida Sans Unicode.ttf',\n",
       " '/Library/Fonts/Microsoft/Calibri Bold Italic.ttf',\n",
       " '/Library/Fonts/Microsoft/Gill Sans MT Bold.ttf',\n",
       " '/Library/Fonts/Microsoft/Arial Italic.ttf',\n",
       " '/System/Library/Fonts/Apple Braille Pinpoint 8 Dot.ttf',\n",
       " '/usr/X11/lib/X11/fonts/TTF/luxirb.ttf']"
      ]
     },
     "execution_count": 47,
     "metadata": {},
     "output_type": "execute_result"
    }
   ],
   "source": [
    "import matplotlib.font_manager as fm\n",
    "fm.findSystemFonts()"
   ]
  },
  {
   "cell_type": "code",
   "execution_count": 63,
   "metadata": {},
   "outputs": [],
   "source": [
    "font = {'family': 'Meiryo'}\n",
    "matplotlib.rc('font', **font)"
   ]
  },
  {
   "cell_type": "code",
   "execution_count": 12,
   "metadata": {},
   "outputs": [],
   "source": [
    "def word_feature(sentence, tokenizer):\n",
    "    tokens = tokenizer.tokenize(sentence)\n",
    "    bases = [t.base_form for t in tokens]\n",
    "    return bases"
   ]
  },
  {
   "cell_type": "code",
   "execution_count": 3,
   "metadata": {},
   "outputs": [],
   "source": [
    "train_root = pathlib.Path('./train')\n",
    "test_root = pathlib.Path('./test')"
   ]
  },
  {
   "cell_type": "code",
   "execution_count": 38,
   "metadata": {},
   "outputs": [],
   "source": [
    "train_data = pd.read_csv(train_root / 'train_data.csv')\n",
    "train_label = pd.read_csv(train_root / 'train_label.csv', header=None, names=['id', 'category'])"
   ]
  },
  {
   "cell_type": "code",
   "execution_count": 21,
   "metadata": {},
   "outputs": [
    {
     "data": {
      "text/html": [
       "<div>\n",
       "<style scoped>\n",
       "    .dataframe tbody tr th:only-of-type {\n",
       "        vertical-align: middle;\n",
       "    }\n",
       "\n",
       "    .dataframe tbody tr th {\n",
       "        vertical-align: top;\n",
       "    }\n",
       "\n",
       "    .dataframe thead th {\n",
       "        text-align: right;\n",
       "    }\n",
       "</style>\n",
       "<table border=\"1\" class=\"dataframe\">\n",
       "  <thead>\n",
       "    <tr style=\"text-align: right;\">\n",
       "      <th></th>\n",
       "      <th>id</th>\n",
       "      <th>text</th>\n",
       "      <th>place</th>\n",
       "      <th>open_type</th>\n",
       "      <th>open_season</th>\n",
       "      <th>open_day_of_week</th>\n",
       "      <th>open_hours_st</th>\n",
       "      <th>open_hours_ed</th>\n",
       "      <th>open_days_st</th>\n",
       "      <th>open_days_ed</th>\n",
       "      <th>open_allday</th>\n",
       "      <th>close_day_of_week</th>\n",
       "    </tr>\n",
       "  </thead>\n",
       "  <tbody>\n",
       "    <tr>\n",
       "      <th>0</th>\n",
       "      <td>0</td>\n",
       "      <td>北小松水泳場内にあり、白砂青松で有名。設備の整ったキャンプ場は若者や子供連れの家族に好評です。</td>\n",
       "      <td>滋賀県</td>\n",
       "      <td>通年</td>\n",
       "      <td>NaN</td>\n",
       "      <td>NaN</td>\n",
       "      <td>NaN</td>\n",
       "      <td>NaN</td>\n",
       "      <td>NaN</td>\n",
       "      <td>NaN</td>\n",
       "      <td>0</td>\n",
       "      <td>NaN</td>\n",
       "    </tr>\n",
       "    <tr>\n",
       "      <th>1</th>\n",
       "      <td>2</td>\n",
       "      <td>平成26年7月、種差芝生地前にオープンした環境省の施設です。三陸復興国立公園、種差海岸及び階...</td>\n",
       "      <td>青森県</td>\n",
       "      <td>通年</td>\n",
       "      <td>冬</td>\n",
       "      <td>NaN</td>\n",
       "      <td>9:00</td>\n",
       "      <td>16:00</td>\n",
       "      <td>NaN</td>\n",
       "      <td>NaN</td>\n",
       "      <td>0</td>\n",
       "      <td>NaN</td>\n",
       "    </tr>\n",
       "    <tr>\n",
       "      <th>2</th>\n",
       "      <td>3</td>\n",
       "      <td>伊都国歴史博物館は糸島地方の歴史が良くわかるように、糸島市から出土した品々を中心に多数の考古...</td>\n",
       "      <td>福岡県</td>\n",
       "      <td>通年</td>\n",
       "      <td>NaN</td>\n",
       "      <td>NaN</td>\n",
       "      <td>9:00</td>\n",
       "      <td>17:00</td>\n",
       "      <td>NaN</td>\n",
       "      <td>NaN</td>\n",
       "      <td>0</td>\n",
       "      <td>月</td>\n",
       "    </tr>\n",
       "    <tr>\n",
       "      <th>3</th>\n",
       "      <td>4</td>\n",
       "      <td>かつては海であったが埋立てられ、現在は野鳥がさえずり緑が生い茂る。ここには、ビキニ沖で被爆し...</td>\n",
       "      <td>東京都</td>\n",
       "      <td>NaN</td>\n",
       "      <td>NaN</td>\n",
       "      <td>NaN</td>\n",
       "      <td>NaN</td>\n",
       "      <td>NaN</td>\n",
       "      <td>NaN</td>\n",
       "      <td>NaN</td>\n",
       "      <td>0</td>\n",
       "      <td>NaN</td>\n",
       "    </tr>\n",
       "    <tr>\n",
       "      <th>4</th>\n",
       "      <td>6</td>\n",
       "      <td>太平山自然公園の南側にある温泉利用型健康増進施設。三内峡温泉（カルシウム・ナトリウム硫酸塩泉...</td>\n",
       "      <td>秋田県</td>\n",
       "      <td>NaN</td>\n",
       "      <td>NaN</td>\n",
       "      <td>NaN</td>\n",
       "      <td>NaN</td>\n",
       "      <td>NaN</td>\n",
       "      <td>NaN</td>\n",
       "      <td>NaN</td>\n",
       "      <td>0</td>\n",
       "      <td>NaN</td>\n",
       "    </tr>\n",
       "  </tbody>\n",
       "</table>\n",
       "</div>"
      ],
      "text/plain": [
       "   id                                               text place open_type  \\\n",
       "0   0    北小松水泳場内にあり、白砂青松で有名。設備の整ったキャンプ場は若者や子供連れの家族に好評です。   滋賀県        通年   \n",
       "1   2  平成26年7月、種差芝生地前にオープンした環境省の施設です。三陸復興国立公園、種差海岸及び階...   青森県        通年   \n",
       "2   3  伊都国歴史博物館は糸島地方の歴史が良くわかるように、糸島市から出土した品々を中心に多数の考古...   福岡県        通年   \n",
       "3   4  かつては海であったが埋立てられ、現在は野鳥がさえずり緑が生い茂る。ここには、ビキニ沖で被爆し...   東京都       NaN   \n",
       "4   6  太平山自然公園の南側にある温泉利用型健康増進施設。三内峡温泉（カルシウム・ナトリウム硫酸塩泉...   秋田県       NaN   \n",
       "\n",
       "  open_season open_day_of_week open_hours_st open_hours_ed  open_days_st  \\\n",
       "0         NaN              NaN           NaN           NaN           NaN   \n",
       "1           冬              NaN          9:00         16:00           NaN   \n",
       "2         NaN              NaN          9:00         17:00           NaN   \n",
       "3         NaN              NaN           NaN           NaN           NaN   \n",
       "4         NaN              NaN           NaN           NaN           NaN   \n",
       "\n",
       "   open_days_ed  open_allday close_day_of_week  \n",
       "0           NaN            0               NaN  \n",
       "1           NaN            0               NaN  \n",
       "2           NaN            0                 月  \n",
       "3           NaN            0               NaN  \n",
       "4           NaN            0               NaN  "
      ]
     },
     "execution_count": 21,
     "metadata": {},
     "output_type": "execute_result"
    }
   ],
   "source": [
    "train_data.head()"
   ]
  },
  {
   "cell_type": "code",
   "execution_count": 70,
   "metadata": {},
   "outputs": [
    {
     "name": "stdout",
     "output_type": "stream",
     "text": [
      "Sports_Resort : 625\n",
      "Museum : 544\n",
      "Park : 594\n",
      "Spa : 258\n",
      "Restaurant : 415\n",
      "Temple : 1351\n",
      "Shop : 335\n",
      "Histrical : 346\n"
     ]
    }
   ],
   "source": [
    "cat_cnt = Counter(train_label['category'])\n",
    "for k,v in cat_cnt.items():\n",
    "    print('{} : {}'.format(k, v))"
   ]
  },
  {
   "cell_type": "code",
   "execution_count": 94,
   "metadata": {},
   "outputs": [],
   "source": [
    "cat_list = list(set(train_label['category']))"
   ]
  },
  {
   "cell_type": "code",
   "execution_count": 22,
   "metadata": {},
   "outputs": [],
   "source": [
    " tokenizer = Tokenizer()\n",
    "feature_func = lambda x: word_feature(x, tokenizer)"
   ]
  },
  {
   "cell_type": "code",
   "execution_count": 23,
   "metadata": {},
   "outputs": [],
   "source": [
    "texts = train_data['text']\n",
    "word_counter = CountVectorizer(min_df=3, tokenizer=feature_func)\n",
    "train_feats = word_counter.fit_transform(texts)"
   ]
  },
  {
   "cell_type": "code",
   "execution_count": 24,
   "metadata": {},
   "outputs": [
    {
     "name": "stderr",
     "output_type": "stream",
     "text": [
      "100%|██████████| 4468/4468 [01:17<00:00, 57.68it/s]\n"
     ]
    }
   ],
   "source": [
    "words = []\n",
    "for d in tqdm.tqdm(texts):\n",
    "    words.extend(feature_func(d))"
   ]
  },
  {
   "cell_type": "code",
   "execution_count": 28,
   "metadata": {},
   "outputs": [],
   "source": [
    "cntr = Counter(words)\n",
    "top_100 = sorted(list(cntr.items()), key=lambda x:x[1])[::-1][:100]"
   ]
  },
  {
   "cell_type": "code",
   "execution_count": 30,
   "metadata": {},
   "outputs": [
    {
     "data": {
      "text/plain": [
       "[('の', 21000),\n",
       " ('、', 17502),\n",
       " ('。', 13971),\n",
       " ('に', 11485),\n",
       " ('を', 8669),\n",
       " ('が', 8423),\n",
       " ('する', 7635),\n",
       " ('は', 7624),\n",
       " ('た', 6759),\n",
       " ('て', 6269),\n",
       " ('ます', 5395),\n",
       " ('れる', 5019),\n",
       " ('と', 5013),\n",
       " ('で', 4113),\n",
       " ('いる', 4031),\n",
       " ('ある', 3674),\n",
       " ('だ', 3409),\n",
       " ('）', 3085),\n",
       " ('（', 3060),\n",
       " ('年', 2716),\n",
       " ('も', 2625),\n",
       " ('「', 2385),\n",
       " ('」', 2378),\n",
       " ('・', 2262),\n",
       " ('や', 2030),\n",
       " ('です', 1781),\n",
       " ('から', 1766),\n",
       " ('など', 1661),\n",
       " ('として', 1531),\n",
       " ('\\u3000', 1416),\n",
       " ('られる', 1008),\n",
       " ('できる', 945),\n",
       " ('なる', 933),\n",
       " ('こと', 925),\n",
       " ('場', 884),\n",
       " ('時代', 854),\n",
       " (' ', 776),\n",
       " ('日', 766),\n",
       " ('月', 747),\n",
       " ('公園', 725),\n",
       " ('展示', 707),\n",
       " ('また', 690),\n",
       " ('寺', 623),\n",
       " ('指定', 599),\n",
       " ('文化財', 594),\n",
       " ('１', 586),\n",
       " ('お', 578),\n",
       " ('この', 573),\n",
       " ('市', 569),\n",
       " ('施設', 562),\n",
       " ('もの', 555),\n",
       " ('神社', 528),\n",
       " ('2', 517),\n",
       " ('その', 513),\n",
       " ('自然', 503),\n",
       " ('.', 502),\n",
       " ('おる', 501),\n",
       " ('(', 499),\n",
       " ('いう', 482),\n",
       " ('０', 480),\n",
       " ('温泉', 476),\n",
       " ('館', 455),\n",
       " ('地', 450),\n",
       " ('的', 439),\n",
       " ('まで', 433),\n",
       " ('中', 432),\n",
       " ('，', 430),\n",
       " ('大', 430),\n",
       " ('建立', 427),\n",
       " ('町', 426),\n",
       " ('現在', 421),\n",
       " ('三', 417),\n",
       " ('境内', 416),\n",
       " ('歴史', 415),\n",
       " ('約', 414),\n",
       " ('3', 410),\n",
       " ('ため', 407),\n",
       " ('伝える', 402),\n",
       " ('昭和', 402),\n",
       " (')', 401),\n",
       " ('明治', 398),\n",
       " ('1', 393),\n",
       " ('国', 385),\n",
       " ('２', 380),\n",
       " ('日本', 378),\n",
       " ('一', 375),\n",
       " ('資料', 375),\n",
       " ('県', 373),\n",
       " ('人', 370),\n",
       " ('楽しめる', 369),\n",
       " ('さ', 369),\n",
       " ('利用', 356),\n",
       " ('：', 355),\n",
       " ('家', 353),\n",
       " ('4', 351),\n",
       " ('ない', 347),\n",
       " ('5', 338),\n",
       " ('内', 337),\n",
       " ('江戸', 330),\n",
       " ('～', 329)]"
      ]
     },
     "execution_count": 30,
     "metadata": {},
     "output_type": "execute_result"
    }
   ],
   "source": [
    "top_100"
   ]
  },
  {
   "cell_type": "code",
   "execution_count": 40,
   "metadata": {},
   "outputs": [
    {
     "name": "stderr",
     "output_type": "stream",
     "text": [
      "100%|██████████| 258/258 [00:04<00:00, 52.46it/s]\n"
     ]
    }
   ],
   "source": [
    "cond = 'Spa'\n",
    "labeled_texts = [tt for tt, label in zip(train_data['text'], train_label['category']) if label == cond]\n",
    "labeled_words = []\n",
    "for d in tqdm.tqdm(labeled_texts):\n",
    "    labeled_words.extend(feature_func(d))\n",
    "labeled_cntr = Counter(labeled_words)\n",
    "top_100 = sorted(list(labeled_cntr.items()), key=lambda x:x[1])[::-1][:100]"
   ]
  },
  {
   "cell_type": "code",
   "execution_count": 68,
   "metadata": {},
   "outputs": [
    {
     "data": {
      "image/png": "[encoded data removed]",
      "text/plain": [
       "<Figure size 720x288 with 1 Axes>"
      ]
     },
     "metadata": {
      "needs_background": "light"
     },
     "output_type": "display_data"
    }
   ],
   "source": [
    "x, y = zip(*top_100[:30])\n",
    "fig = plt.figure(figsize=(10, 4))\n",
    "plt.bar(x, y)\n",
    "plt.show()"
   ]
  },
  {
   "cell_type": "code",
   "execution_count": 69,
   "metadata": {},
   "outputs": [
    {
     "data": {
      "image/png": "[encoded data removed]",
      "text/plain": [
       "<Figure size 720x288 with 1 Axes>"
      ]
     },
     "metadata": {
      "needs_background": "light"
     },
     "output_type": "display_data"
    }
   ],
   "source": [
    "x, y = zip(*top_100[30:50])\n",
    "fig = plt.figure(figsize=(10, 4))\n",
    "plt.bar(x, y)\n",
    "plt.show()"
   ]
  },
  {
   "cell_type": "code",
   "execution_count": 71,
   "metadata": {},
   "outputs": [
    {
     "name": "stderr",
     "output_type": "stream",
     "text": [
      "100%|██████████| 1351/1351 [00:34<00:00, 38.86it/s]\n"
     ]
    }
   ],
   "source": [
    "cond = 'Temple'\n",
    "labeled_texts = [tt for tt, label in zip(train_data['text'], train_label['category']) if label == cond]\n",
    "labeled_words = []\n",
    "for d in tqdm.tqdm(labeled_texts):\n",
    "    labeled_words.extend(feature_func(d))\n",
    "labeled_cntr = Counter(labeled_words)\n",
    "top_100 = sorted(list(labeled_cntr.items()), key=lambda x:x[1])[::-1][:100]"
   ]
  },
  {
   "cell_type": "code",
   "execution_count": 72,
   "metadata": {},
   "outputs": [
    {
     "data": {
      "image/png": "[encoded data removed]",
      "text/plain": [
       "<Figure size 720x288 with 1 Axes>"
      ]
     },
     "metadata": {
      "needs_background": "light"
     },
     "output_type": "display_data"
    }
   ],
   "source": [
    "x, y = zip(*top_100[:30])\n",
    "fig = plt.figure(figsize=(10, 4))\n",
    "plt.bar(x, y)\n",
    "plt.show()"
   ]
  },
  {
   "cell_type": "code",
   "execution_count": 73,
   "metadata": {},
   "outputs": [
    {
     "data": {
      "image/png": "[encoded data removed]",
      "text/plain": [
       "<Figure size 720x288 with 1 Axes>"
      ]
     },
     "metadata": {
      "needs_background": "light"
     },
     "output_type": "display_data"
    }
   ],
   "source": [
    "x, y = zip(*top_100[30:50])\n",
    "fig = plt.figure(figsize=(10, 4))\n",
    "plt.bar(x, y)\n",
    "plt.show()"
   ]
  },
  {
   "cell_type": "code",
   "execution_count": 74,
   "metadata": {},
   "outputs": [
    {
     "name": "stderr",
     "output_type": "stream",
     "text": [
      "100%|██████████| 346/346 [00:09<00:00, 37.76it/s]\n"
     ]
    }
   ],
   "source": [
    "cond = 'Histrical'\n",
    "labeled_texts = [tt for tt, label in zip(train_data['text'], train_label['category']) if label == cond]\n",
    "labeled_words = []\n",
    "for d in tqdm.tqdm(labeled_texts):\n",
    "    labeled_words.extend(feature_func(d))\n",
    "labeled_cntr = Counter(labeled_words)\n",
    "top_100 = sorted(list(labeled_cntr.items()), key=lambda x:x[1])[::-1][:100]"
   ]
  },
  {
   "cell_type": "code",
   "execution_count": 75,
   "metadata": {},
   "outputs": [
    {
     "data": {
      "image/png": "[encoded data removed]",
      "text/plain": [
       "<Figure size 720x288 with 1 Axes>"
      ]
     },
     "metadata": {
      "needs_background": "light"
     },
     "output_type": "display_data"
    }
   ],
   "source": [
    "x, y = zip(*top_100[:30])\n",
    "fig = plt.figure(figsize=(10, 4))\n",
    "plt.bar(x, y)\n",
    "plt.show()"
   ]
  },
  {
   "cell_type": "code",
   "execution_count": 76,
   "metadata": {},
   "outputs": [
    {
     "data": {
      "image/png": "[encoded data removed]",
      "text/plain": [
       "<Figure size 720x288 with 1 Axes>"
      ]
     },
     "metadata": {
      "needs_background": "light"
     },
     "output_type": "display_data"
    }
   ],
   "source": [
    "x, y = zip(*top_100[30:50])\n",
    "fig = plt.figure(figsize=(10, 4))\n",
    "plt.bar(x, y)\n",
    "plt.show()"
   ]
  },
  {
   "cell_type": "code",
   "execution_count": 98,
   "metadata": {},
   "outputs": [
    {
     "data": {
      "image/png": "[encoded data removed]",
      "text/plain": [
       "<Figure size 720x432 with 1 Axes>"
      ]
     },
     "metadata": {
      "needs_background": "light"
     },
     "output_type": "display_data"
    },
    {
     "data": {
      "image/png": "[encoded data removed]",
      "text/plain": [
       "<Figure size 720x432 with 1 Axes>"
      ]
     },
     "metadata": {
      "needs_background": "light"
     },
     "output_type": "display_data"
    },
    {
     "data": {
      "image/png": "[encoded data removed]",
      "text/plain": [
       "<Figure size 720x432 with 1 Axes>"
      ]
     },
     "metadata": {
      "needs_background": "light"
     },
     "output_type": "display_data"
    },
    {
     "data": {
      "image/png": "[encoded data removed]",
      "text/plain": [
       "<Figure size 720x432 with 1 Axes>"
      ]
     },
     "metadata": {
      "needs_background": "light"
     },
     "output_type": "display_data"
    },
    {
     "data": {
      "image/png": "[encoded data removed]",
      "text/plain": [
       "<Figure size 720x432 with 1 Axes>"
      ]
     },
     "metadata": {
      "needs_background": "light"
     },
     "output_type": "display_data"
    },
    {
     "data": {
      "image/png": "[encoded data removed]",
      "text/plain": [
       "<Figure size 720x432 with 1 Axes>"
      ]
     },
     "metadata": {
      "needs_background": "light"
     },
     "output_type": "display_data"
    },
    {
     "data": {
      "image/png": "[encoded data removed]",
      "text/plain": [
       "<Figure size 720x432 with 1 Axes>"
      ]
     },
     "metadata": {
      "needs_background": "light"
     },
     "output_type": "display_data"
    },
    {
     "data": {
      "image/png": "[encoded data removed]",
      "text/plain": [
       "<Figure size 720x432 with 1 Axes>"
      ]
     },
     "metadata": {
      "needs_background": "light"
     },
     "output_type": "display_data"
    }
   ],
   "source": [
    "for cond in cat_list:\n",
    "    labeled_places = [tt for tt, label in zip(train_data['place'], train_label['category']) if label == cond]\n",
    "    place_cntr = Counter(labeled_places)\n",
    "    top_5 = sorted(list(place_cntr.items()), key=lambda x:x[1])[::-1][:5]\n",
    "    x, y = zip(*top_5)\n",
    "    fig = plt.figure(figsize=(10, 6))\n",
    "    plt.title('place: {}'.format(cond))\n",
    "    plt.bar(x, y)\n",
    "    plt.show()"
   ]
  },
  {
   "cell_type": "code",
   "execution_count": 96,
   "metadata": {
    "scrolled": false
   },
   "outputs": [
    {
     "data": {
      "image/png": "[encoded data removed]",
      "text/plain": [
       "<Figure size 720x432 with 1 Axes>"
      ]
     },
     "metadata": {
      "needs_background": "light"
     },
     "output_type": "display_data"
    },
    {
     "data": {
      "image/png": "[encoded data removed]",
      "text/plain": [
       "<Figure size 720x432 with 1 Axes>"
      ]
     },
     "metadata": {
      "needs_background": "light"
     },
     "output_type": "display_data"
    },
    {
     "data": {
      "image/png": "[encoded data removed]",
      "text/plain": [
       "<Figure size 720x432 with 1 Axes>"
      ]
     },
     "metadata": {
      "needs_background": "light"
     },
     "output_type": "display_data"
    },
    {
     "data": {
      "image/png": "[encoded data removed]",
      "text/plain": [
       "<Figure size 720x432 with 1 Axes>"
      ]
     },
     "metadata": {
      "needs_background": "light"
     },
     "output_type": "display_data"
    },
    {
     "data": {
      "image/png": "[encoded data removed]",
      "text/plain": [
       "<Figure size 720x432 with 1 Axes>"
      ]
     },
     "metadata": {
      "needs_background": "light"
     },
     "output_type": "display_data"
    },
    {
     "data": {
      "image/png": "[encoded data removed]",
      "text/plain": [
       "<Figure size 720x432 with 1 Axes>"
      ]
     },
     "metadata": {
      "needs_background": "light"
     },
     "output_type": "display_data"
    },
    {
     "data": {
      "image/png": "[encoded data removed]",
      "text/plain": [
       "<Figure size 720x432 with 1 Axes>"
      ]
     },
     "metadata": {
      "needs_background": "light"
     },
     "output_type": "display_data"
    },
    {
     "data": {
      "image/png": "[encoded data removed]",
      "text/plain": [
       "<Figure size 720x432 with 1 Axes>"
      ]
     },
     "metadata": {
      "needs_background": "light"
     },
     "output_type": "display_data"
    }
   ],
   "source": [
    "for cond in cat_list:\n",
    "    labeled_close = [tt for tt, label in zip(train_data['close_day_of_week'], train_label['category']) if label == cond]\n",
    "    close_cntr = Counter(labeled_close)\n",
    "    top_5 = sorted(list(close_cntr.items()), key=lambda x:x[1])[::-1][1:5]\n",
    "    x, y = zip(*top_5)\n",
    "    fig = plt.figure(figsize=(10, 6))\n",
    "    plt.bar(x, y)\n",
    "    plt.title('close_day_of_week: {}'.format(cond))\n",
    "    plt.show()"
   ]
  },
  {
   "cell_type": "code",
   "execution_count": null,
   "metadata": {},
   "outputs": [],
   "source": []
  }
 ],
 "metadata": {
  "kernelspec": {
   "display_name": "Python 3",
   "language": "python",
   "name": "python3"
  },
  "language_info": {
   "codemirror_mode": {
    "name": "ipython",
    "version": 3
   },
   "file_extension": ".py",
   "mimetype": "text/x-python",
   "name": "python",
   "nbconvert_exporter": "python",
   "pygments_lexer": "ipython3",
   "version": "3.6.3"
  }
 },
 "nbformat": 4,
 "nbformat_minor": 2
}
